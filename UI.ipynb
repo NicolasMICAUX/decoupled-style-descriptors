{
  "nbformat": 4,
  "nbformat_minor": 0,
  "metadata": {
    "colab": {
      "name": "UI.ipynb",
      "provenance": [],
      "include_colab_link": true
    },
    "kernelspec": {
      "name": "python3",
      "display_name": "Python 3"
    },
    "language_info": {
      "name": "python"
    }
  },
  "cells": [
    {
      "cell_type": "markdown",
      "metadata": {
        "id": "view-in-github",
        "colab_type": "text"
      },
      "source": [
        "<a href=\"https://colab.research.google.com/github/eschill04/decoupled-style-descriptors-eb/blob/ui/UI.ipynb\" target=\"_parent\"><img src=\"https://colab.research.google.com/assets/colab-badge.svg\" alt=\"Open In Colab\"/></a>"
      ]
    },
    {
      "cell_type": "code",
      "source": [
        "#@title\n",
        "%%capture\n",
        "from google.colab import drive\n",
        "drive.mount('/content/drive')\n",
        "%cd \"/content/drive/MyDrive/Colab Notebooks/Spring22/decoupled-style-descriptors-eb\"\n",
        "\n",
        "!pip install virtualenv\n",
        "# !virtualenv .venv\n",
        "!source venv/bin/activate\n",
        "!pip install -r requirements.txt\n",
        "!pip install gradio\n",
        "!pip install tensorboardX\n",
        "!pip install importlib\n",
        "!pip install ffmpeg-python"
      ],
      "metadata": {
        "id": "qHeCxKaVkF1E",
        "cellView": "form"
      },
      "execution_count": null,
      "outputs": []
    },
    {
      "cell_type": "code",
      "source": [
        "#@title\n",
        "import torch\n",
        "import argparse\n",
        "import numpy as np\n",
        "from helper import *\n",
        "from config.GlobalVariables import *\n",
        "from SynthesisNetwork import SynthesisNetwork\n",
        "from DataLoader import DataLoader\n",
        "import convenience\n",
        "import gradio as gr"
      ],
      "metadata": {
        "id": "cO2UI-Keq88M",
        "cellView": "form"
      },
      "execution_count": null,
      "outputs": []
    },
    {
      "cell_type": "code",
      "execution_count": null,
      "metadata": {
        "colab": {
          "base_uri": "https://localhost:8080/",
          "height": 657
        },
        "id": "d4slHswDjmFD",
        "outputId": "cd5a8828-55b0-4377-d503-3deba439c48c"
      },
      "outputs": [
        {
          "output_type": "stream",
          "name": "stdout",
          "text": [
            "self.datadir :  ./data/writers\n",
            "Colab notebook detected. To show errors in colab notebook, set `debug=True` in `launch()`\n",
            "Running on public URL: https://17255.gradio.app\n",
            "\n",
            "This share link expires in 72 hours. For free permanent hosting, check out Spaces: https://huggingface.co/spaces\n"
          ]
        },
        {
          "output_type": "display_data",
          "data": {
            "text/plain": [
              "<IPython.core.display.HTML object>"
            ],
            "text/html": [
              "<div><iframe src=\"https://17255.gradio.app\" width=\"900\" height=\"500\" allow=\"autoplay; camera; microphone;\" frameborder=\"0\" allowfullscreen></iframe></div>"
            ]
          },
          "metadata": {}
        },
        {
          "output_type": "execute_result",
          "data": {
            "text/plain": [
              "(<gradio.routes.App at 0x7fd879c935d0>,\n",
              " 'http://127.0.0.1:7871/',\n",
              " 'https://17255.gradio.app')"
            ]
          },
          "metadata": {},
          "execution_count": 19
        }
      ],
      "source": [
        "#@title\n",
        "from os import getpriority\n",
        "device = 'cpu'\n",
        "num_samples = 10\n",
        "\n",
        "net = SynthesisNetwork(weight_dim=256, num_layers=3).to(device)\n",
        "\n",
        "if not torch.cuda.is_available():\n",
        "    try: # retrained model also contains loss in dict \n",
        "        net.load_state_dict(torch.load('./model/250000.pt', map_location=torch.device(device))[\"model_state_dict\"])\n",
        "    except:\n",
        "        net.load_state_dict(torch.load('./model/250000.pt', map_location=torch.device(device)))\n",
        "    \n",
        "\n",
        "dl = DataLoader(num_writer=1, num_samples=10, divider=5.0, datadir='./data/writers')\n",
        "\n",
        "\n",
        "writer_options = [80, 120] # find more writers to make more interesting\n",
        "all_loaded_data = []\n",
        "avail_char = \"0 1 2 3 4 5 6 7 8 9 a b c d e f g h i j k l m n o p q r s t u v w x y z A B C D E F G H I J K L M N O P Q R S T U V W X Y Z ! ? \\\" ' * + - = : ; , . < > \\ / [ ] ( ) # $ % &\"\n",
        "avail_char_list = avail_char.split(\" \")\n",
        "for writer_id in [80, 120]:\n",
        "    loaded_data = dl.next_batch(TYPE='TRAIN', uid=writer_id, tids=list(range(num_samples)))\n",
        "    all_loaded_data.append(loaded_data)\n",
        "\n",
        "def interpolate_writers(target_word, val):\n",
        "    image = convenience.sample_blended_writers([val, 1 - val], target_word, net, all_loaded_data, device).convert(\"RGB\")\n",
        "    return image\n",
        "\n",
        "def choose_writers(writer1, writer2):\n",
        "    writer_options = [int(writer1.split(\" \")[1]), int(writer2.split(\" \")[1])]\n",
        "    all_loaded_data.clear()\n",
        "\n",
        "    for writer_id in writer_options:\n",
        "        loaded_data = dl.next_batch(TYPE='TRAIN', uid=writer_id, tids=list(range(num_samples)))\n",
        "        all_loaded_data.append(loaded_data)\n",
        "\n",
        "    return gr.Slider.update(label=f\"Ratio of {writer1} vs. {writer2}\")\n",
        "'''\n",
        "def choose_writer(writ, c1, c2, c3, c4, val):\n",
        "    all_loaded_data.clear()\n",
        "    w = int(writ.split(\" \")[1])\n",
        "    loaded_data = dl.next_batch(TYPE='TRAIN', uid=w, tids=list(range(num_samples)))\n",
        "    all_loaded_data.append(loaded_data)\n",
        "    return char_grid(c1, c2, c3, c4, val)\n",
        "'''\n",
        "def update_char(c1, c2, c3, c4):\n",
        "      return gr.Button.update(value=f\"Blend {c1}, {c2}, {c3}, and {c4}!\")\n",
        "\n",
        "def char_grid(c1, c2, c3, c4, val):\n",
        "    image = convenience.sample_character_grid([c1, c2, c3, c4], val, net, all_loaded_data, device).convert(\"RGB\")\n",
        "    return image\n",
        "    \n",
        "with gr.Blocks() as demo:\n",
        "    with gr.Tabs():\n",
        "      with gr.TabItem(\"Blend Writers\"):\n",
        "        target_word = gr.Textbox(label=\"Target Word\", value=\"hello world\", max_lines=1)\n",
        "        with gr.Row():\n",
        "            radio_options = [\"Writer \" + str(n) for n in writer_options]\n",
        "            with gr.Column():\n",
        "                writer1 = gr.Radio(radio_options, value=\"Writer 80\", label=\"Style for writer 1\")\n",
        "            with gr.Column():\n",
        "                writer2 = gr.Radio(radio_options, value=\"Writer 120\", label=\"Style for writer 2\")\n",
        "        slider = gr.Slider(0, 1, value=0.3, label=\"Ratio of Writer 80 vs. Writer 120\")\n",
        "\n",
        "        default_image = convenience.sample_blended_writers([0.3, 0.7], \"hello world\", net, all_loaded_data, device).convert(\"RGB\")\n",
        "        output = gr.Image(default_image)\n",
        "        \n",
        "        slider.change(fn=interpolate_writers, inputs=[target_word, slider], outputs=[output])\n",
        "        target_word.submit(fn=interpolate_writers, inputs=[target_word, slider], outputs=[output])\n",
        "\n",
        "        writer1.change(fn=choose_writers, inputs=[writer1, writer2], outputs=[slider])\n",
        "        writer2.change(fn=choose_writers, inputs=[writer1, writer2], outputs=[slider])\n",
        "\n",
        "      with gr.TabItem(\"Blend Characters\"):\n",
        "        with gr.Row():\n",
        "            with gr.Column():\n",
        "                char1 = gr.Dropdown(choices=avail_char_list, value=\"y\", label=\"Character 1\")\n",
        "            with gr.Column():\n",
        "                char2 = gr.Dropdown(choices=avail_char_list, value=\"s\", label=\"Character 2\")\n",
        "            with gr.Column():\n",
        "                char3 = gr.Dropdown(choices=avail_char_list, value=\"u\", label=\"Character 3\")\n",
        "            with gr.Column():\n",
        "                char4 = gr.Dropdown(choices=avail_char_list, value=\"n\", label=\"Character 4\")\n",
        "        with gr.Row(): \n",
        "            submit_button = gr.Button(value=\"Blend y, s, u, and n!\")\n",
        "        '''\n",
        "        with gr.Row():\n",
        "            radio_options2 = [\"Writer \" + str(n) for n in writer_options]\n",
        "            writer = gr.Radio(radio_options2, value=\"Writer 80\", label=\"Style for Writer\")\n",
        "            writer.change(fn=choose_writer, inputs=[writer, char1, char2, char3, char4, slider2], outputs=[output])\n",
        "        '''\n",
        "        slider2 = gr.Slider(2, 20, value=10, label=\"Grid Size\", step=1)\n",
        "\n",
        "        default_image = convenience.sample_character_grid(['y', 's', 'u', 'n'], 10, net, all_loaded_data, device).convert(\"RGB\")\n",
        "        output = gr.Image(default_image)\n",
        "        \n",
        "        char1.change(fn=update_char, inputs=[char1, char2, char3, char4], outputs=[submit_button])\n",
        "        char2.change(fn=update_char, inputs=[char1, char2, char3, char4], outputs=[submit_button])\n",
        "        char3.change(fn=update_char, inputs=[char1, char2, char3, char4], outputs=[submit_button])\n",
        "        char4.change(fn=update_char, inputs=[char1, char2, char3, char4], outputs=[submit_button])\n",
        "        \n",
        "        \n",
        "        slider2.change(fn=char_grid, inputs=[char1, char2, char3, char4, slider2], outputs=[output])\n",
        "        submit_button.click(fn=char_grid, inputs=[char1, char2, char3, char4, slider2], outputs=[output])\n",
        "        \n",
        "        \n",
        "\n",
        "demo.launch()"
      ]
    }
  ]
}