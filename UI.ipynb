{
  "nbformat": 4,
  "nbformat_minor": 0,
  "metadata": {
    "colab": {
      "name": "UI.ipynb",
      "provenance": [],
      "authorship_tag": "ABX9TyMiZMmFDuj+eLszNl4YgrdF",
      "include_colab_link": true
    },
    "kernelspec": {
      "name": "python3",
      "display_name": "Python 3"
    },
    "language_info": {
      "name": "python"
    }
  },
  "cells": [
    {
      "cell_type": "markdown",
      "metadata": {
        "id": "view-in-github",
        "colab_type": "text"
      },
      "source": [
        "<a href=\"https://colab.research.google.com/github/eschill04/decoupled-style-descriptors-eb/blob/ui/UI.ipynb\" target=\"_parent\"><img src=\"https://colab.research.google.com/assets/colab-badge.svg\" alt=\"Open In Colab\"/></a>"
      ]
    },
    {
      "cell_type": "code",
      "source": [
        "%%capture\n",
        "from google.colab import drive\n",
        "drive.mount('/content/drive')\n",
        "%cd \"/content/drive/MyDrive/Colab Notebooks/Spring22/decoupled-style-descriptors-eb\"\n",
        "\n",
        "!pip install virtualenv\n",
        "# !virtualenv .venv\n",
        "!source venv/bin/activate\n",
        "!pip install -r requirements.txt\n",
        "!pip install gradio\n",
        "!pip install tensorboardX\n",
        "!pip install importlib\n",
        "!pip install ffmpeg-python"
      ],
      "metadata": {
        "id": "qHeCxKaVkF1E"
      },
      "execution_count": 92,
      "outputs": []
    },
    {
      "cell_type": "code",
      "source": [
        "import torch\n",
        "import argparse\n",
        "import numpy as np\n",
        "from helper import *\n",
        "from config.GlobalVariables import *\n",
        "from SynthesisNetwork import SynthesisNetwork\n",
        "from DataLoader import DataLoader\n",
        "import convenience\n",
        "import gradio as gr"
      ],
      "metadata": {
        "id": "cO2UI-Keq88M"
      },
      "execution_count": 72,
      "outputs": []
    },
    {
      "cell_type": "code",
      "execution_count": 91,
      "metadata": {
        "colab": {
          "base_uri": "https://localhost:8080/",
          "height": 660
        },
        "id": "d4slHswDjmFD",
        "outputId": "7d430b4b-d792-48ee-8d60-ecd4005b86aa"
      },
      "outputs": [
        {
          "output_type": "stream",
          "name": "stdout",
          "text": [
            "self.datadir :  ./data/writers\n",
            "Colab notebook detected. To show errors in colab notebook, set `debug=True` in `launch()`\n",
            "Running on public URL: https://34518.gradio.app\n",
            "\n",
            "This share link expires in 72 hours. For free permanent hosting, check out Spaces: https://huggingface.co/spaces\n"
          ]
        },
        {
          "output_type": "display_data",
          "data": {
            "text/plain": [
              "<IPython.core.display.HTML object>"
            ],
            "text/html": [
              "<div><iframe src=\"https://34518.gradio.app\" width=\"900\" height=\"500\" allow=\"autoplay; camera; microphone;\" frameborder=\"0\" allowfullscreen></iframe></div>"
            ]
          },
          "metadata": {}
        },
        {
          "output_type": "execute_result",
          "data": {
            "text/plain": [
              "(<gradio.routes.App at 0x7f9682a3cd90>,\n",
              " 'http://127.0.0.1:7879/',\n",
              " 'https://34518.gradio.app')"
            ]
          },
          "metadata": {},
          "execution_count": 91
        }
      ],
      "source": [
        "device = 'cpu'\n",
        "num_samples = 10\n",
        "\n",
        "net = SynthesisNetwork(weight_dim=256, num_layers=3).to(device)\n",
        "\n",
        "if not torch.cuda.is_available():\n",
        "    try: # retrained model also contains loss in dict \n",
        "        net.load_state_dict(torch.load('./model/250000.pt', map_location=torch.device(device))[\"model_state_dict\"])\n",
        "    except:\n",
        "        net.load_state_dict(torch.load('./model/250000.pt', map_location=torch.device(device)))\n",
        "    \n",
        "\n",
        "dl = DataLoader(num_writer=1, num_samples=10, divider=5.0, datadir='./data/writers')\n",
        "\n",
        "\n",
        "writer_options = [80, 120] # find more writers to make more interesting\n",
        "all_loaded_data = []\n",
        "\n",
        "for writer_id in [80, 120]:\n",
        "    loaded_data = dl.next_batch(TYPE='TRAIN', uid=writer_id, tids=list(range(num_samples)))\n",
        "    all_loaded_data.append(loaded_data)\n",
        "\n",
        "def interpolate_writers(target_word, val):\n",
        "    image = convenience.sample_blended_writers([val, 1 - val], target_word, net, all_loaded_data, device).convert(\"RGB\")\n",
        "    return image\n",
        "\n",
        "def choose_writers(writer1, writer2):\n",
        "    writer_options = [int(writer1.split(\" \")[1]), int(writer2.split(\" \")[1])]\n",
        "    all_loaded_data.clear()\n",
        "\n",
        "    for writer_id in writer_options:\n",
        "        loaded_data = dl.next_batch(TYPE='TRAIN', uid=writer_id, tids=list(range(num_samples)))\n",
        "        all_loaded_data.append(loaded_data)\n",
        "\n",
        "    return gr.Slider.update(label=f\"Ratio of {writer1} vs. {writer2}\")\n",
        "\n",
        "with gr.Blocks() as demo:\n",
        "    target_word = gr.Textbox(label=\"Target Word\", value=\"hello world\")\n",
        "    with gr.Row():\n",
        "        radio_options = [\"Writer \" + str(n) for n in writer_options]\n",
        "        with gr.Column():\n",
        "            writer1 = gr.Radio(radio_options, value=\"Writer 80\", label=\"Style for writer 1\")\n",
        "        with gr.Column():\n",
        "            writer2 = gr.Radio(radio_options, value=\"Writer 120\", label=\"Style for writer 2\")\n",
        "    slider = gr.Slider(0, 1, value=0.3, label=\"Ratio of Writer 80 vs. Writer 120\")\n",
        "\n",
        "    default_image = convenience.sample_blended_writers([0.3, 0.7], \"hello world\", net, all_loaded_data, device).convert(\"RGB\")\n",
        "    output = gr.Image(default_image)\n",
        "    \n",
        "    slider.change(fn=interpolate_writers, inputs=[target_word, slider], outputs=[output])\n",
        "    target_word.submit(fn=interpolate_writers, inputs=[target_word, slider], outputs=[output])\n",
        "\n",
        "    writer1.change(fn=choose_writers, inputs=[writer1, writer2], outputs=[slider])\n",
        "    writer2.change(fn=choose_writers, inputs=[writer1, writer2], outputs=[slider])\n",
        "    \n",
        "\n",
        "demo.launch()"
      ]
    }
  ]
}